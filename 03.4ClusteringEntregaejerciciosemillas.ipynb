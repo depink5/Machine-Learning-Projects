{
 "cells": [
  {
   "cell_type": "markdown",
   "metadata": {},
   "source": [
    "# 03.4 Ejercicio de Clustering con fichero de semillas\n",
    "\n",
    "El objetivo del cuaderno es hacer una agrupación del archivo de semillas según sus características y ver que tal separa en sus diferentes etiquetas\n",
    "\n",
    "Para calcular la tasa de aciertos visualmente asignaremos los cluster generados a las etiquetas reales. En la rutina de recuento se utiliza la variable __equivalencia__ para indicar dicha correspondencia."
   ]
  },
  {
   "cell_type": "code",
   "execution_count": 1,
   "metadata": {},
   "outputs": [],
   "source": [
    "import matplotlib.pyplot as plt \n",
    "%matplotlib inline\n",
    "import pandas as pd\n",
    "import numpy as np\n",
    "from skimage import io\n",
    "from IPython import display"
   ]
  },
  {
   "cell_type": "markdown",
   "metadata": {},
   "source": [
    "Se va a utilizar __K-means__ y varios __métodos jerárquicos__ para agrupar 210 instancias de __semillas de trigo__. El conjunto de datos esta en el archivo seeds.csv que puedes descargar de Moodle. Se muestrearon aleatoriamente 70 semillas de tres variedades de trigo; kama, rosa y canadiense (listados como 1, 2 y 3 en la columna species class).\n",
    "\n",
    "De las 210 observaciones se midieron, utilizando tecnicas precisas, los siguientes atributos: __\"área, perímetro, compactividad, longitud, anchura, coeficiente de asimetría, longitud del canal\"__."
   ]
  },
  {
   "cell_type": "markdown",
   "metadata": {},
   "source": [
    "## Carga del archivo en un dataframe"
   ]
  },
  {
   "cell_type": "code",
   "execution_count": 2,
   "metadata": {},
   "outputs": [
    {
     "data": {
      "text/html": [
       "<div>\n",
       "<style scoped>\n",
       "    .dataframe tbody tr th:only-of-type {\n",
       "        vertical-align: middle;\n",
       "    }\n",
       "\n",
       "    .dataframe tbody tr th {\n",
       "        vertical-align: top;\n",
       "    }\n",
       "\n",
       "    .dataframe thead th {\n",
       "        text-align: right;\n",
       "    }\n",
       "</style>\n",
       "<table border=\"1\" class=\"dataframe\">\n",
       "  <thead>\n",
       "    <tr style=\"text-align: right;\">\n",
       "      <th></th>\n",
       "      <th>area</th>\n",
       "      <th>perimeter</th>\n",
       "      <th>compactness</th>\n",
       "      <th>length</th>\n",
       "      <th>width</th>\n",
       "      <th>asymmetry</th>\n",
       "      <th>groove_length</th>\n",
       "      <th>species_class</th>\n",
       "    </tr>\n",
       "  </thead>\n",
       "  <tbody>\n",
       "    <tr>\n",
       "      <th>0</th>\n",
       "      <td>15.26</td>\n",
       "      <td>14.84</td>\n",
       "      <td>0.8710</td>\n",
       "      <td>5.763</td>\n",
       "      <td>3.312</td>\n",
       "      <td>2.221</td>\n",
       "      <td>5.220</td>\n",
       "      <td>1</td>\n",
       "    </tr>\n",
       "    <tr>\n",
       "      <th>1</th>\n",
       "      <td>14.88</td>\n",
       "      <td>14.57</td>\n",
       "      <td>0.8811</td>\n",
       "      <td>5.554</td>\n",
       "      <td>3.333</td>\n",
       "      <td>1.018</td>\n",
       "      <td>4.956</td>\n",
       "      <td>1</td>\n",
       "    </tr>\n",
       "    <tr>\n",
       "      <th>2</th>\n",
       "      <td>14.29</td>\n",
       "      <td>14.09</td>\n",
       "      <td>0.9050</td>\n",
       "      <td>5.291</td>\n",
       "      <td>3.337</td>\n",
       "      <td>2.699</td>\n",
       "      <td>4.825</td>\n",
       "      <td>1</td>\n",
       "    </tr>\n",
       "    <tr>\n",
       "      <th>3</th>\n",
       "      <td>13.84</td>\n",
       "      <td>13.94</td>\n",
       "      <td>0.8955</td>\n",
       "      <td>5.324</td>\n",
       "      <td>3.379</td>\n",
       "      <td>2.259</td>\n",
       "      <td>4.805</td>\n",
       "      <td>1</td>\n",
       "    </tr>\n",
       "    <tr>\n",
       "      <th>4</th>\n",
       "      <td>16.14</td>\n",
       "      <td>14.99</td>\n",
       "      <td>0.9034</td>\n",
       "      <td>5.658</td>\n",
       "      <td>3.562</td>\n",
       "      <td>1.355</td>\n",
       "      <td>5.175</td>\n",
       "      <td>1</td>\n",
       "    </tr>\n",
       "  </tbody>\n",
       "</table>\n",
       "</div>"
      ],
      "text/plain": [
       "    area  perimeter  compactness  length  width  asymmetry  groove_length  \\\n",
       "0  15.26      14.84       0.8710   5.763  3.312      2.221          5.220   \n",
       "1  14.88      14.57       0.8811   5.554  3.333      1.018          4.956   \n",
       "2  14.29      14.09       0.9050   5.291  3.337      2.699          4.825   \n",
       "3  13.84      13.94       0.8955   5.324  3.379      2.259          4.805   \n",
       "4  16.14      14.99       0.9034   5.658  3.562      1.355          5.175   \n",
       "\n",
       "   species_class  \n",
       "0              1  \n",
       "1              1  \n",
       "2              1  \n",
       "3              1  \n",
       "4              1  "
      ]
     },
     "execution_count": 2,
     "metadata": {},
     "output_type": "execute_result"
    }
   ],
   "source": [
    "df = pd.read_csv('data/seeds.csv')\n",
    "df.head()"
   ]
  },
  {
   "cell_type": "markdown",
   "metadata": {},
   "source": [
    "### Se estandariza el conjunto de datos\n",
    "\n",
    "Con eso se evita que la diferencias de magnitud entre cada característica afecte al clustering"
   ]
  },
  {
   "cell_type": "code",
   "execution_count": 3,
   "metadata": {},
   "outputs": [
    {
     "data": {
      "text/html": [
       "<div>\n",
       "<style scoped>\n",
       "    .dataframe tbody tr th:only-of-type {\n",
       "        vertical-align: middle;\n",
       "    }\n",
       "\n",
       "    .dataframe tbody tr th {\n",
       "        vertical-align: top;\n",
       "    }\n",
       "\n",
       "    .dataframe thead th {\n",
       "        text-align: right;\n",
       "    }\n",
       "</style>\n",
       "<table border=\"1\" class=\"dataframe\">\n",
       "  <thead>\n",
       "    <tr style=\"text-align: right;\">\n",
       "      <th></th>\n",
       "      <th>area</th>\n",
       "      <th>perimeter</th>\n",
       "      <th>compactness</th>\n",
       "      <th>length</th>\n",
       "      <th>width</th>\n",
       "      <th>asymmetry</th>\n",
       "      <th>groove_length</th>\n",
       "      <th>species_class</th>\n",
       "    </tr>\n",
       "  </thead>\n",
       "  <tbody>\n",
       "    <tr>\n",
       "      <th>0</th>\n",
       "      <td>0.142098</td>\n",
       "      <td>0.215462</td>\n",
       "      <td>0.000061</td>\n",
       "      <td>0.304218</td>\n",
       "      <td>0.141702</td>\n",
       "      <td>-0.986152</td>\n",
       "      <td>-0.383577</td>\n",
       "      <td>1</td>\n",
       "    </tr>\n",
       "    <tr>\n",
       "      <th>1</th>\n",
       "      <td>0.011188</td>\n",
       "      <td>0.008224</td>\n",
       "      <td>0.428515</td>\n",
       "      <td>-0.168625</td>\n",
       "      <td>0.197432</td>\n",
       "      <td>-1.788166</td>\n",
       "      <td>-0.922013</td>\n",
       "      <td>1</td>\n",
       "    </tr>\n",
       "    <tr>\n",
       "      <th>2</th>\n",
       "      <td>-0.192067</td>\n",
       "      <td>-0.360201</td>\n",
       "      <td>1.442383</td>\n",
       "      <td>-0.763637</td>\n",
       "      <td>0.208048</td>\n",
       "      <td>-0.667479</td>\n",
       "      <td>-1.189192</td>\n",
       "      <td>1</td>\n",
       "    </tr>\n",
       "    <tr>\n",
       "      <th>3</th>\n",
       "      <td>-0.347091</td>\n",
       "      <td>-0.475333</td>\n",
       "      <td>1.039381</td>\n",
       "      <td>-0.688978</td>\n",
       "      <td>0.319508</td>\n",
       "      <td>-0.960818</td>\n",
       "      <td>-1.229983</td>\n",
       "      <td>1</td>\n",
       "    </tr>\n",
       "    <tr>\n",
       "      <th>4</th>\n",
       "      <td>0.445257</td>\n",
       "      <td>0.330595</td>\n",
       "      <td>1.374509</td>\n",
       "      <td>0.066666</td>\n",
       "      <td>0.805159</td>\n",
       "      <td>-1.563495</td>\n",
       "      <td>-0.475356</td>\n",
       "      <td>1</td>\n",
       "    </tr>\n",
       "  </tbody>\n",
       "</table>\n",
       "</div>"
      ],
      "text/plain": [
       "       area  perimeter  compactness    length     width  asymmetry  \\\n",
       "0  0.142098   0.215462     0.000061  0.304218  0.141702  -0.986152   \n",
       "1  0.011188   0.008224     0.428515 -0.168625  0.197432  -1.788166   \n",
       "2 -0.192067  -0.360201     1.442383 -0.763637  0.208048  -0.667479   \n",
       "3 -0.347091  -0.475333     1.039381 -0.688978  0.319508  -0.960818   \n",
       "4  0.445257   0.330595     1.374509  0.066666  0.805159  -1.563495   \n",
       "\n",
       "   groove_length  species_class  \n",
       "0      -0.383577              1  \n",
       "1      -0.922013              1  \n",
       "2      -1.189192              1  \n",
       "3      -1.229983              1  \n",
       "4      -0.475356              1  "
      ]
     },
     "execution_count": 3,
     "metadata": {},
     "output_type": "execute_result"
    }
   ],
   "source": [
    "from sklearn.preprocessing import StandardScaler\n",
    "sc = StandardScaler()\n",
    "df[[\"area\",\"perimeter\",\"compactness\",\"length\",\"width\",\"asymmetry\",\"groove_length\"]] = sc.fit_transform(df[[\"area\",\n",
    "    \"perimeter\",\"compactness\",\"length\",\"width\",\"asymmetry\",\"groove_length\"]])\n",
    "df.head()"
   ]
  },
  {
   "cell_type": "markdown",
   "metadata": {},
   "source": [
    "### Construcción de la matriz X de características + la matriz y de etiquetas\n",
    "\n",
    "- Las características están en las 7 primeras columnas __¿duda preguntar si es hasta la 6 o hasta la 7 en el X?__\n",
    "- Las etiquetas en la columna 8 (species_class)"
   ]
  },
  {
   "cell_type": "code",
   "execution_count": 4,
   "metadata": {},
   "outputs": [],
   "source": [
    "X = df.values[:,0:7]\n",
    "y_ini = df.values[:,7]"
   ]
  },
  {
   "cell_type": "code",
   "execution_count": 5,
   "metadata": {},
   "outputs": [],
   "source": [
    "from sklearn.preprocessing import LabelEncoder\n",
    "le=LabelEncoder()\n",
    "y=le.fit_transform(y_ini)"
   ]
  },
  {
   "cell_type": "markdown",
   "metadata": {},
   "source": [
    "### Visualización gráfica de los datos\n",
    "\n",
    "Se presenta en un gráfico bidimensional dos de las características (área y perímetro) y la etiqueta que identifica cada clase en y se representa con una viñeta distinta al dibujar el punto."
   ]
  },
  {
   "cell_type": "code",
   "execution_count": 6,
   "metadata": {},
   "outputs": [
    {
     "data": {
      "image/png": "[encoded data removed]",
      "text/plain": [
       "<Figure size 560x400 with 1 Axes>"
      ]
     },
     "metadata": {},
     "output_type": "display_data"
    }
   ],
   "source": [
    "import matplotlib.pyplot as plt\n",
    "clases = ['kama','rosa','canadiense']\n",
    "marcas = ['*', 'o', 's']\n",
    "color = ['red', 'green', 'blue']\n",
    "plt.figure(figsize=(7, 5), dpi=80)\n",
    "for i in range(len(clases)):\n",
    "    plt.scatter(X[y==i,0], X[y==i,1], c=color[i], alpha=0.5, marker=marcas[i], label=clases[i])\n",
    "plt.xlabel(\"Área\")\n",
    "plt.ylabel(\"Perímetro\")\n",
    "plt.legend(loc='upper left')\n",
    "plt.show()"
   ]
  },
  {
   "cell_type": "markdown",
   "metadata": {},
   "source": [
    "Se llevará a cabo una agrupación de 3 grupos (__n_cluster__), se ejecuta el algoritmo 10 veces (__n_init__) independientemente con diferentes centroides aleatorios para elegir el modelo final que tiene el SSE más bajo. Se elege una tolerancia (__tol__) de 0.0001 ($10^{-4}$) para controlar la convergencia de los mínimos cuadrados.\n",
    "\n",
    "Un problema con k-means es que uno o más grupos pueden estar vacíos. Sin embargo, en la implementación actual de kmeans en scikit-learn, si un grupo está vacío, el algoritmo buscará la muestra más alejada del centroide del grupo vacío. Luego reasignará el centroide para que sea el punto más alejado."
   ]
  },
  {
   "cell_type": "code",
   "execution_count": 7,
   "metadata": {},
   "outputs": [
    {
     "data": {
      "text/plain": [
       "array([0, 1, 2])"
      ]
     },
     "execution_count": 7,
     "metadata": {},
     "output_type": "execute_result"
    }
   ],
   "source": [
    "from sklearn.cluster import KMeans\n",
    "km = KMeans(n_clusters=3, init='random', n_init=10, max_iter=300, tol=1e-04, random_state=1)\n",
    "y_km = km.fit_predict(X)\n",
    "np.unique(y_km)"
   ]
  },
  {
   "cell_type": "markdown",
   "metadata": {},
   "source": [
    "__Mostrar las coordenadas de los centroides usando un DataFrame__"
   ]
  },
  {
   "cell_type": "code",
   "execution_count": 8,
   "metadata": {},
   "outputs": [
    {
     "data": {
      "text/html": [
       "<div>\n",
       "<style scoped>\n",
       "    .dataframe tbody tr th:only-of-type {\n",
       "        vertical-align: middle;\n",
       "    }\n",
       "\n",
       "    .dataframe tbody tr th {\n",
       "        vertical-align: top;\n",
       "    }\n",
       "\n",
       "    .dataframe thead th {\n",
       "        text-align: right;\n",
       "    }\n",
       "</style>\n",
       "<table border=\"1\" class=\"dataframe\">\n",
       "  <thead>\n",
       "    <tr style=\"text-align: right;\">\n",
       "      <th></th>\n",
       "      <th>area</th>\n",
       "      <th>perimeter</th>\n",
       "      <th>compactness</th>\n",
       "      <th>length</th>\n",
       "      <th>width</th>\n",
       "      <th>asymmetry</th>\n",
       "      <th>groove_length</th>\n",
       "    </tr>\n",
       "  </thead>\n",
       "  <tbody>\n",
       "    <tr>\n",
       "      <th>0</th>\n",
       "      <td>-0.141119</td>\n",
       "      <td>-0.170043</td>\n",
       "      <td>0.449606</td>\n",
       "      <td>-0.257814</td>\n",
       "      <td>0.001647</td>\n",
       "      <td>-0.661919</td>\n",
       "      <td>-0.585893</td>\n",
       "    </tr>\n",
       "    <tr>\n",
       "      <th>1</th>\n",
       "      <td>-1.030253</td>\n",
       "      <td>-1.006649</td>\n",
       "      <td>-0.964905</td>\n",
       "      <td>-0.897685</td>\n",
       "      <td>-1.085583</td>\n",
       "      <td>0.694804</td>\n",
       "      <td>-0.624809</td>\n",
       "    </tr>\n",
       "    <tr>\n",
       "      <th>2</th>\n",
       "      <td>1.256682</td>\n",
       "      <td>1.261966</td>\n",
       "      <td>0.560464</td>\n",
       "      <td>1.237883</td>\n",
       "      <td>1.164852</td>\n",
       "      <td>-0.045219</td>\n",
       "      <td>1.292308</td>\n",
       "    </tr>\n",
       "  </tbody>\n",
       "</table>\n",
       "</div>"
      ],
      "text/plain": [
       "       area  perimeter  compactness    length     width  asymmetry  \\\n",
       "0 -0.141119  -0.170043     0.449606 -0.257814  0.001647  -0.661919   \n",
       "1 -1.030253  -1.006649    -0.964905 -0.897685 -1.085583   0.694804   \n",
       "2  1.256682   1.261966     0.560464  1.237883  1.164852  -0.045219   \n",
       "\n",
       "   groove_length  \n",
       "0      -0.585893  \n",
       "1      -0.624809  \n",
       "2       1.292308  "
      ]
     },
     "execution_count": 8,
     "metadata": {},
     "output_type": "execute_result"
    }
   ],
   "source": [
    "df1=pd.DataFrame(columns=df.columns[0:7],index = np.arange(3),data = km.cluster_centers_)\n",
    "df1"
   ]
  },
  {
   "cell_type": "markdown",
   "metadata": {},
   "source": [
    "La visualización del ajuste realizado es el siguiente:"
   ]
  },
  {
   "cell_type": "code",
   "execution_count": 9,
   "metadata": {},
   "outputs": [
    {
     "data": {
      "image/png": "[encoded data removed]",
      "text/plain": [
       "<Figure size 560x400 with 1 Axes>"
      ]
     },
     "metadata": {},
     "output_type": "display_data"
    }
   ],
   "source": [
    "import matplotlib.pyplot as plt\n",
    "clases = ['grupo 0','grupo 1','grupo 2']\n",
    "color = ['red', 'green', 'blue']\n",
    "plt.figure(figsize=(7, 5), dpi=80)\n",
    "for i in range(len(clases)):\n",
    "    plt.scatter(X[y_km==i,0], X[y_km==i,1], c=color[i], alpha=0.5, marker='o', label=clases[i])\n",
    "x1=df1.values[:,0]\n",
    "y1=df1.values[:,1]\n",
    "plt.scatter(x1, y1, marker=\"*\", s=200, c='k')\n",
    "plt.xlabel(\"Área\")\n",
    "plt.ylabel(\"Perímetro\")\n",
    "plt.legend(loc='upper left')\n",
    "plt.show()"
   ]
  },
  {
   "cell_type": "markdown",
   "metadata": {},
   "source": [
    "### Se evalúa la calidad del método\n",
    "\n",
    "Calcular los índices __R__ , __ARI__ , __VI__ y __AVI__ comparando contra las etiquetas reales de 'species_class' ."
   ]
  },
  {
   "cell_type": "code",
   "execution_count": 10,
   "metadata": {},
   "outputs": [
    {
     "name": "stdout",
     "output_type": "stream",
     "text": [
      "KMeans  R=0.900 ARI=0.773\n"
     ]
    }
   ],
   "source": [
    "from sklearn.metrics.cluster import rand_score\n",
    "from sklearn.metrics.cluster import adjusted_rand_score\n",
    "print(\"KMeans  R=%.3f ARI=%.3f\" %(rand_score(labels_true=y, labels_pred=y_km), adjusted_rand_score(labels_true=y, labels_pred=y_km)))"
   ]
  },
  {
   "cell_type": "code",
   "execution_count": 11,
   "metadata": {},
   "outputs": [
    {
     "name": "stdout",
     "output_type": "stream",
     "text": [
      "load done!\n"
     ]
    }
   ],
   "source": [
    "run 03.0ClusteringUtilidades.ipynb #Si la ejecución de esta celda da error, revisar el nombre del cuaderno"
   ]
  },
  {
   "cell_type": "code",
   "execution_count": 12,
   "metadata": {},
   "outputs": [
    {
     "name": "stdout",
     "output_type": "stream",
     "text": [
      "KMeans  VI=0.598 AVI=0.112  NVI=0.272\n"
     ]
    }
   ],
   "source": [
    "print(\"KMeans  VI=%.3f AVI=%.3f  NVI=%.3f\" %(variationInformation(y, y_km), adjustedVariationInformation(y, y_km), \n",
    "                                             normalizedVariationInformation(y, y_km)))"
   ]
  },
  {
   "cell_type": "markdown",
   "metadata": {},
   "source": [
    "## Nuevo proceso con Cluster jerárquico\n",
    "\n",
    "Se resuelve un cluster aglomerativo con __scikit-learn__ que es __AgglomerativeClustering__:"
   ]
  },
  {
   "cell_type": "code",
   "execution_count": 13,
   "metadata": {},
   "outputs": [
    {
     "data": {
      "text/plain": [
       "array([0, 1, 2], dtype=int64)"
      ]
     },
     "execution_count": 13,
     "metadata": {},
     "output_type": "execute_result"
    }
   ],
   "source": [
    "from sklearn.cluster import AgglomerativeClustering\n",
    "ac = AgglomerativeClustering(n_clusters=3, affinity='euclidean', linkage='complete')\n",
    "y_ag = ac.fit_predict(X)\n",
    "etiquetas=np.unique(y_ag) \n",
    "etiquetas"
   ]
  },
  {
   "cell_type": "code",
   "execution_count": 14,
   "metadata": {},
   "outputs": [
    {
     "data": {
      "image/png": "[encoded data removed]",
      "text/plain": [
       "<Figure size 560x400 with 1 Axes>"
      ]
     },
     "metadata": {},
     "output_type": "display_data"
    }
   ],
   "source": [
    "import matplotlib.pyplot as plt\n",
    "names = ['grupo 0', 'grupo 1', 'grupo 2']\n",
    "color = ['red', 'green', 'blue']\n",
    "plt.figure(figsize=(7, 5), dpi=80)\n",
    "for i in range(len(names)):\n",
    "    cl = i\n",
    "    plt.scatter(X[y_ag==cl,0], X[y_ag==cl,1], c=color[i], alpha=0.5, marker='o', label=names[i])\n",
    "plt.xlabel(\"Área\")\n",
    "plt.ylabel(\"Perímetro\")\n",
    "plt.legend(loc='upper left')\n",
    "plt.show()"
   ]
  },
  {
   "cell_type": "markdown",
   "metadata": {},
   "source": [
    "### Se evalúa la calidad del método\n",
    "\n",
    "Calcular los índices __R__ , __ARI__ , __VI__ y __AVI__ comparando contra las etiquetas reales de 'species_class' ."
   ]
  },
  {
   "cell_type": "code",
   "execution_count": 15,
   "metadata": {
    "scrolled": false
   },
   "outputs": [
    {
     "name": "stdout",
     "output_type": "stream",
     "text": [
      "load done!\n"
     ]
    }
   ],
   "source": [
    "run 03.0ClusteringUtilidades.ipynb #Si la ejecución de esta celda da error, revisar el nombre del cuaderno"
   ]
  },
  {
   "cell_type": "code",
   "execution_count": 17,
   "metadata": {},
   "outputs": [
    {
     "name": "stdout",
     "output_type": "stream",
     "text": [
      "AgglomerativeClustering R=0.859 ARI=0.686\n"
     ]
    }
   ],
   "source": [
    "from sklearn.metrics.cluster import rand_score\n",
    "from sklearn.metrics.cluster import adjusted_rand_score\n",
    "print(\"AgglomerativeClustering R=%.3f ARI=%.3f\" %(rand_score(labels_true=y, labels_pred=y_ag), adjusted_rand_score(labels_true=y, labels_pred=y_ag)))"
   ]
  },
  {
   "cell_type": "code",
   "execution_count": 18,
   "metadata": {},
   "outputs": [
    {
     "name": "stdout",
     "output_type": "stream",
     "text": [
      "AgglomerativeClustering VI=0.650 AVI=0.121  NVI=0.299\n"
     ]
    }
   ],
   "source": [
    "print(\"AgglomerativeClustering VI=%.3f AVI=%.3f  NVI=%.3f\" %(variationInformation(y, y_ag), adjustedVariationInformation(y, y_ag), \n",
    "                                             normalizedVariationInformation(y, y_ag)))"
   ]
  },
  {
   "cell_type": "markdown",
   "metadata": {},
   "source": [
    "__¿Qué clustering ha resultado más optimo?__"
   ]
  },
  {
   "cell_type": "markdown",
   "metadata": {},
   "source": [
    "Para los valores del ídice de Rand, cuanto más cercanos a __1__ son, mejor ha  sido la agrupación. El clustering más óptimo se ha obtenido por KMeans ya que __R=0.900__, más alto que el __R=0.859__ del Clustering Jeráquíco. En el caso del índice VI, cuanto más cercanos a __0__ son los valores, mejor ha sido la agrupación. El Clustering realizado por KMeans tiene un valor más bajo de __VI__ (__VI=0.598__) que el obtenido por Clustering Jerárquíco (__VI=0.650__), todo esto indicando que el método KMeans ha sido más óptimo para agrupar."
   ]
  },
  {
   "cell_type": "markdown",
   "metadata": {},
   "source": [
    "## Estudio del número de grupos óptimos (gráfico del codo y bic)"
   ]
  },
  {
   "cell_type": "code",
   "execution_count": 19,
   "metadata": {},
   "outputs": [
    {
     "name": "stderr",
     "output_type": "stream",
     "text": [
      "C:\\Users\\Usuario\\anaconda3\\lib\\site-packages\\sklearn\\cluster\\_kmeans.py:1036: UserWarning: KMeans is known to have a memory leak on Windows with MKL, when there are less chunks than available threads. You can avoid it by setting the environment variable OMP_NUM_THREADS=1.\n",
      "  warnings.warn(\n"
     ]
    },
    {
     "data": {
      "image/png": "[encoded data removed]",
      "text/plain": [
       "<Figure size 560x320 with 1 Axes>"
      ]
     },
     "metadata": {},
     "output_type": "display_data"
    }
   ],
   "source": [
    "distortions = []\n",
    "for i in range(1, 11):\n",
    "    km = KMeans(n_clusters=i, init='k-means++', max_iter=300, tol=1e-04, random_state=1)\n",
    "    km.fit(X)\n",
    "    distortions.append(km.inertia_)\n",
    "plt.figure(figsize=(7, 4), dpi=80)\n",
    "plt.plot(range(1,11), distortions, label=\"SSE vs k\")\n",
    "plt.xlabel(\"Número de Clusters\")\n",
    "plt.ylabel(\"Distorsión\")\n",
    "plt.legend(loc='upper right')\n",
    "plt.show()"
   ]
  },
  {
   "cell_type": "markdown",
   "metadata": {},
   "source": [
    "Según el gráfico del codo, el número de grupos óptimos sería de __2__ ó __3__ clusters."
   ]
  },
  {
   "cell_type": "code",
   "execution_count": 62,
   "metadata": {},
   "outputs": [
    {
     "name": "stderr",
     "output_type": "stream",
     "text": [
      "C:\\Users\\Usuario\\anaconda3\\lib\\site-packages\\sklearn\\cluster\\_kmeans.py:1036: UserWarning: KMeans is known to have a memory leak on Windows with MKL, when there are less chunks than available threads. You can avoid it by setting the environment variable OMP_NUM_THREADS=1.\n",
      "  warnings.warn(\n"
     ]
    },
    {
     "data": {
      "image/png": "[encoded data removed]",
      "text/plain": [
       "<Figure size 560x320 with 1 Axes>"
      ]
     },
     "metadata": {},
     "output_type": "display_data"
    }
   ],
   "source": [
    "from sklearn.mixture import GaussianMixture\n",
    "from sklearn.preprocessing import StandardScaler\n",
    "bic = []\n",
    "for i in range(1, 11):\n",
    "    gmm = GaussianMixture(n_components=i, init_params='kmeans')\n",
    "    gmm.fit(X)\n",
    "    bic.append(gmm.bic(X))\n",
    "\n",
    "plt.figure(figsize=(7, 4), dpi=80)\n",
    "plt.plot(range(1,11), bic, label=\"BIC vs k\")\n",
    "plt.xlabel(\"Número de Clusters\")\n",
    "plt.ylabel(\"BIC\")\n",
    "plt.legend(loc='upper right')\n",
    "plt.show()    "
   ]
  },
  {
   "cell_type": "markdown",
   "metadata": {},
   "source": [
    "Se debe elegir el número de clusters que minimiza el BIC. Según el gráfico obtenido, el número de grupos óptimos es el de __3 clusters__."
   ]
  },
  {
   "cell_type": "code",
   "execution_count": null,
   "metadata": {},
   "outputs": [],
   "source": []
  }
 ],
 "metadata": {
  "kernelspec": {
   "display_name": "Python 3 (ipykernel)",
   "language": "python",
   "name": "python3"
  },
  "language_info": {
   "codemirror_mode": {
    "name": "ipython",
    "version": 3
   },
   "file_extension": ".py",
   "mimetype": "text/x-python",
   "name": "python",
   "nbconvert_exporter": "python",
   "pygments_lexer": "ipython3",
   "version": "3.9.13"
  }
 },
 "nbformat": 4,
 "nbformat_minor": 4
}
