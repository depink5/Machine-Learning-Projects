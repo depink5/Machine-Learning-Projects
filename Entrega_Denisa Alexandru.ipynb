{
 "cells": [
  {
   "cell_type": "markdown",
   "id": "cross-uzbekistan",
   "metadata": {},
   "source": [
    "# Entrega: _Animula Vagula Blandula_\n",
    "\n",
    "Hace ya más de treinta y cinco años, unos profesores de la Facultad de Químicas de la UCM aplicaron un tipo particular de algoritmos genéticos basados en el modelo de cuasiespecie {cite}`Eigen1971` para estudiar los procesos de evolución y selección en poblaciones de entidades auto replicativas {cite}`MoranMontero1984`. \n",
    "\n",
    "En un alarde metafórico, el trabajo ilustra como una población de moléculas autorreplicativas sometidas a un proceso de evolución y selección puede terminar por escribir en su genotipo maestro la frase __ANIMULA\n",
    "VAGULA BLANDULA__ que se atribuye al emperador Adriano {cite}`Yourcenar1951` (existe una traducción de Julio Cortázar {cite}`Cortazar2009`. \n",
    "\n",
    "Nos planteamos en esta sección reproducir estos resultados utilizando un algoritmo genético cuyos pasos hemos definido en el primer apartado.\n",
    "\n",
    "## Ejercicio 1. \n",
    "\n",
    "Utiliza los ejercicios resueltos en la primera sección para definir un bucle de replicación-selección para reproducir los resultados del artículo de `MoranMontero1984`.\n",
    "\n"
   ]
  },
  {
   "cell_type": "markdown",
   "id": "cf4cf23e",
   "metadata": {},
   "source": [
    "### Importamos los módulos necesarios"
   ]
  },
  {
   "cell_type": "code",
   "execution_count": 1,
   "id": "f715f93f",
   "metadata": {},
   "outputs": [],
   "source": [
    "import matplotlib.pyplot as plt\n",
    "import pygad\n",
    "import random\n",
    "import numpy as np"
   ]
  },
  {
   "cell_type": "markdown",
   "id": "778ba26f",
   "metadata": {},
   "source": [
    "### Definición de las variables del código"
   ]
  },
  {
   "cell_type": "code",
   "execution_count": 2,
   "id": "d4827491",
   "metadata": {},
   "outputs": [
    {
     "data": {
      "text/plain": [
       "{'a': 0,\n",
       " 'b': 1,\n",
       " 'c': 2,\n",
       " 'd': 3,\n",
       " 'e': 4,\n",
       " 'f': 5,\n",
       " 'g': 6,\n",
       " 'h': 7,\n",
       " 'i': 8,\n",
       " 'j': 9,\n",
       " 'k': 10,\n",
       " 'l': 11,\n",
       " 'm': 12,\n",
       " 'n': 13,\n",
       " 'o': 14,\n",
       " 'p': 15,\n",
       " 'q': 16,\n",
       " 'r': 17,\n",
       " 's': 18,\n",
       " 't': 19,\n",
       " 'u': 20,\n",
       " 'v': 21,\n",
       " 'w': 22,\n",
       " 'x': 23,\n",
       " 'y': 24,\n",
       " 'z': 25}"
      ]
     },
     "execution_count": 2,
     "metadata": {},
     "output_type": "execute_result"
    }
   ],
   "source": [
    "#Definimos un diccionario en el que se le asigna a cada letra un número\n",
    "letter_to_number={letter:index for index, letter in enumerate('abcdefghijklmnopqrstuvwxyz')}\n",
    "letter_to_number"
   ]
  },
  {
   "cell_type": "code",
   "execution_count": 3,
   "id": "2634845a",
   "metadata": {},
   "outputs": [
    {
     "name": "stdout",
     "output_type": "stream",
     "text": [
      "[0, 13, 8, 12, 20, 11, 0, 21, 0, 6, 20, 11, 0, 1, 11, 0, 13, 3, 20, 11, 0]\n"
     ]
    }
   ],
   "source": [
    "#Definimos la cadena objetivo Animula Vagula Blandula\n",
    "target_string = \"animulavagulablandula\"\n",
    "#Convertimos la cadena en una lista\n",
    "targ_string=list(\"animulavagulablandula\")\n",
    "#Convertimos los caracteres a de la cadena a números\n",
    "targ_string_to_numbers=[]\n",
    "for i in targ_string:\n",
    "    targ_string_to_numbers.append(letter_to_number[i])\n",
    "print(targ_string_to_numbers)"
   ]
  },
  {
   "cell_type": "code",
   "execution_count": 4,
   "id": "76dede5c",
   "metadata": {},
   "outputs": [],
   "source": [
    "#Definimos los parámetros de PyGAD\n",
    "\n",
    "population_size = 100 #tamaño de la población\n",
    "\n",
    "mutation_rate = 10  #tasa de mutación\n",
    "\n",
    "num_generation = 20  #número de generaciones\n",
    "\n",
    "sol_per_pop=100  #número de soluciones\n",
    "\n",
    "space=list(range(0,26))  #espacio en el que se puede introducir mutaciones (todas las letras del alfabeto que corresponden a 26 números)"
   ]
  },
  {
   "cell_type": "markdown",
   "id": "0b586261",
   "metadata": {},
   "source": [
    "### Definición de las funciones necesarias"
   ]
  },
  {
   "cell_type": "code",
   "execution_count": 5,
   "id": "7f6b3d0b",
   "metadata": {},
   "outputs": [
    {
     "data": {
      "text/plain": [
       "[25, 8, 23, 21, 14, 15, 5, 2, 23, 7, 23, 24, 12, 10, 2, 15, 25, 19, 11, 20, 6]"
      ]
     },
     "execution_count": 5,
     "metadata": {},
     "output_type": "execute_result"
    }
   ],
   "source": [
    "#Función que genera una cadena aleatoria\n",
    "def generate_random_string(length):\n",
    "    \"\"\"\n",
    "    Esta función crea una cadena aleatoria de caracteres y la convierte a su forma númerica\n",
    "    siendo esa la que hace falta para crear el algoritmo genético.\n",
    "    length: longitud de la cadena aleatoria. Debe coincidir con la cadena  objetivo.\n",
    "    \n",
    "    \"\"\"\n",
    "    string=[random.choice('abcdefghijklmnopqrstuvwxyz') for _ in range(length)]\n",
    "    string_to_numbers=[]\n",
    "    for i in string:\n",
    "        string_to_numbers.append(letter_to_number[i])\n",
    "    return string_to_numbers\n",
    "generate_random_string(21)"
   ]
  },
  {
   "cell_type": "code",
   "execution_count": 6,
   "id": "47436687",
   "metadata": {},
   "outputs": [],
   "source": [
    "#Función que genera la población inicial a partir de la cuál se va a producir la evolución hacia la cadena objetivo\n",
    "def initialize_population(size):\n",
    "    \"\"\"\n",
    "    size: tamaño de la población.\n",
    "    Genera una población de un determinado tamaño proporcionado.\n",
    "    \n",
    "    \"\"\"\n",
    "    matrix=[generate_random_string(len(target_string)) for i in range(size)]\n",
    "    return matrix\n",
    "#Se genera la población inicial\n",
    "initial_pop=initialize_population(population_size)"
   ]
  },
  {
   "cell_type": "code",
   "execution_count": 7,
   "id": "978d85be",
   "metadata": {},
   "outputs": [],
   "source": [
    "#Función de fitness\n",
    "def fitness_func(instance, solution, solution_idx):\n",
    "    \"\"\"\n",
    "    instance: instancia del algoritmo genético.\n",
    "    solution: cadena de la que se va a evaluar el fitness.\n",
    "    \n",
    "    Evalúa la similitud de una cadena obtenida en el algoritmo genético\n",
    "    con la cadena objetivo Animula Vagula Blandula y devuelve un\n",
    "    porcentaje de similitud.\n",
    "    \n",
    "    \"\"\"\n",
    "    score = sum(1 for a, b in zip(solution, targ_string_to_numbers) if a == b)\n",
    "    fitness=score/len(target_string)*100\n",
    "    return fitness"
   ]
  },
  {
   "cell_type": "code",
   "execution_count": 8,
   "id": "212441e9",
   "metadata": {},
   "outputs": [],
   "source": [
    "#Función que define el tipo de mutaciones\n",
    "def mutation_func(offspring, instance):\n",
    "    \"\"\"\n",
    "    offspring: cadena que se va a mutar\n",
    "    instance: instancia del algoritmo genético\n",
    "    \n",
    "    Evalúa si un determinado gen de la cadena que se va a mutar\n",
    "    coincide con el gen en la misma posición de la cadena objetivo.\n",
    "    Si hay coincidencia, el gen no se muta. \n",
    "    Si no hay coincidencia, el gen se muta de manera aleatoria.\n",
    "    \n",
    "    \"\"\"\n",
    "    for chromosome_idx in range(offspring.shape[0]):\n",
    "        for gene_idx in range(offspring.shape[1]):\n",
    "            if offspring[chromosome_idx, gene_idx] != targ_string_to_numbers[gene_idx]:\n",
    "                mutated_gene = random.choice(space)\n",
    "                offspring[chromosome_idx, gene_idx] = mutated_gene\n",
    "    return offspring"
   ]
  },
  {
   "cell_type": "code",
   "execution_count": 9,
   "id": "a22985bf",
   "metadata": {},
   "outputs": [],
   "source": [
    "#Función que imprime las soluciones cada 4 generaciones\n",
    "def on_generation(ga):\n",
    "    if ga.generations_completed % 4==0:\n",
    "        print(\"Generation\", ga.generations_completed)\n",
    "        print(ga.population)"
   ]
  },
  {
   "cell_type": "markdown",
   "id": "e1410bce",
   "metadata": {},
   "source": [
    "### Definción del algoritmo genético"
   ]
  },
  {
   "cell_type": "code",
   "execution_count": 10,
   "id": "8dbd537d",
   "metadata": {},
   "outputs": [
    {
     "name": "stderr",
     "output_type": "stream",
     "text": [
      "C:\\Users\\Usuario\\anaconda3\\lib\\site-packages\\pygad\\pygad.py:1083: UserWarning: Use the 'save_solutions' parameter with caution as it may cause memory overflow when either the number of generations, number of genes, or number of solutions in population is large.\n",
      "  if not self.suppress_warnings: warnings.warn(\"Use the 'save_solutions' parameter with caution as it may cause memory overflow when either the number of generations, number of genes, or number of solutions in population is large.\")\n"
     ]
    }
   ],
   "source": [
    "ga_instance = pygad.GA(num_generations=num_generation,\n",
    "                       sol_per_pop=sol_per_pop,\n",
    "                       num_genes=len(target_string),\n",
    "                       initial_population=initial_pop,\n",
    "                       num_parents_mating=2,\n",
    "                       fitness_func=fitness_func,\n",
    "                       gene_space = space, \n",
    "                       parent_selection_type=\"rank\",\n",
    "                       gene_type=int,\n",
    "                       mutation_type=mutation_func,\n",
    "                       mutation_percent_genes=mutation_rate,\n",
    "                       on_generation=on_generation,\n",
    "                       allow_duplicate_genes=True,\n",
    "                       save_solutions=True)"
   ]
  },
  {
   "cell_type": "code",
   "execution_count": 11,
   "id": "11dd6b68",
   "metadata": {},
   "outputs": [
    {
     "name": "stdout",
     "output_type": "stream",
     "text": [
      "Generation 4\n",
      "[[ 0 13 20 ... 20 11 19]\n",
      " [ 0 13 14 ... 20 11  0]\n",
      " [ 0  0 16 ... 20 11 11]\n",
      " ...\n",
      " [ 0 13  6 ... 20 11  0]\n",
      " [ 0  3 23 ... 20 11 12]\n",
      " [ 0 13 14 ... 20 11  0]]\n",
      "Generation 8\n",
      "[[ 0 13  8 ... 20 11  0]\n",
      " [ 0 13  8 ... 20 11  0]\n",
      " [ 0 13  8 ... 20 11  0]\n",
      " ...\n",
      " [ 0 13  8 ... 20 11  0]\n",
      " [ 0 13  8 ... 20 11  0]\n",
      " [ 0 13  8 ... 20 11  0]]\n",
      "Generation 12\n",
      "[[ 0 13  8 ... 20 11  0]\n",
      " [ 0 13  8 ... 20 11  0]\n",
      " [ 0 13  8 ... 20 11  0]\n",
      " ...\n",
      " [ 0 13  8 ... 20 11  0]\n",
      " [ 0 13  8 ... 20 11  0]\n",
      " [ 0 13  8 ... 20 11  0]]\n",
      "Generation 16\n",
      "[[ 0 13  8 ... 20 11  0]\n",
      " [ 0 13  8 ... 20 11  0]\n",
      " [ 0 13  8 ... 20 11  0]\n",
      " ...\n",
      " [ 0 13  8 ... 20 11  0]\n",
      " [ 0 13  8 ... 20 11  0]\n",
      " [ 0 13  8 ... 20 11  0]]\n",
      "Generation 20\n",
      "[[ 0 13  8 ... 20 11  0]\n",
      " [ 0 13  8 ... 20 11  0]\n",
      " [ 0 13  8 ... 20 11  0]\n",
      " ...\n",
      " [ 0 13  8 ... 20 11  0]\n",
      " [ 0 13  8 ... 20 11  0]\n",
      " [ 0 13  8 ... 20 11  0]]\n"
     ]
    }
   ],
   "source": [
    "ga_instance.run()"
   ]
  },
  {
   "cell_type": "code",
   "execution_count": 12,
   "id": "9b15cd52",
   "metadata": {},
   "outputs": [
    {
     "name": "stdout",
     "output_type": "stream",
     "text": [
      "best_solution: [ 0 13  8 12 20 11  0 21  0  6 20 11  0  1 11  0 13  3 20 11  0]\n"
     ]
    }
   ],
   "source": [
    "#Obtenemos la mejor solución\n",
    "solution, solution_fitness, solution_idx = ga_instance.best_solution()\n",
    "print(\"best_solution: {solution}\".format(solution =solution))"
   ]
  },
  {
   "cell_type": "code",
   "execution_count": 13,
   "id": "78419e25",
   "metadata": {},
   "outputs": [
    {
     "name": "stdout",
     "output_type": "stream",
     "text": [
      "animulavagulablandula\n"
     ]
    }
   ],
   "source": [
    "#Comprobamos si la solcuión obtenida coincide con la solucón objetivo\n",
    "solution_string=[]\n",
    "for i in solution:\n",
    "    for key, value in letter_to_number.items():\n",
    "        if i == value:\n",
    "            keys=key\n",
    "            solution_string.append(keys)\n",
    "print(''.join(solution_string))"
   ]
  },
  {
   "cell_type": "code",
   "execution_count": 14,
   "id": "f99aa4d7",
   "metadata": {},
   "outputs": [
    {
     "name": "stdout",
     "output_type": "stream",
     "text": [
      "best_solution fitness: 100.0 %\n"
     ]
    }
   ],
   "source": [
    "#Fitness de la solución\n",
    "print(\"best_solution fitness: {} %\".format(solution_fitness))"
   ]
  },
  {
   "cell_type": "code",
   "execution_count": 15,
   "id": "ac6466c6",
   "metadata": {},
   "outputs": [
    {
     "data": {
      "image/png": "[encoded data removed]",
      "text/plain": [
       "<Figure size 640x480 with 1 Axes>"
      ]
     },
     "metadata": {},
     "output_type": "display_data"
    }
   ],
   "source": [
    "ga_instance.plot_fitness()\n",
    "plt.close()"
   ]
  },
  {
   "cell_type": "code",
   "execution_count": null,
   "id": "ea93ebf3",
   "metadata": {},
   "outputs": [],
   "source": []
  }
 ],
 "metadata": {
  "kernelspec": {
   "display_name": "Python 3 (ipykernel)",
   "language": "python",
   "name": "python3"
  },
  "language_info": {
   "codemirror_mode": {
    "name": "ipython",
    "version": 3
   },
   "file_extension": ".py",
   "mimetype": "text/x-python",
   "name": "python",
   "nbconvert_exporter": "python",
   "pygments_lexer": "ipython3",
   "version": "3.9.13"
  }
 },
 "nbformat": 4,
 "nbformat_minor": 5
}
