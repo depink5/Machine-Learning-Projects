{
 "cells": [
  {
   "cell_type": "markdown",
   "metadata": {},
   "source": [
    "Denisa Alexandru"
   ]
  },
  {
   "cell_type": "markdown",
   "metadata": {},
   "source": [
    "# 02.6 Clasificación - Ejercicio para entregar sobre variedades vínicolas\n"
   ]
  },
  {
   "cell_type": "code",
   "execution_count": 2,
   "metadata": {},
   "outputs": [],
   "source": [
    "import matplotlib.pyplot as plt\n",
    "%matplotlib inline\n",
    "from IPython import display\n",
    "import numpy as np"
   ]
  },
  {
   "cell_type": "markdown",
   "metadata": {},
   "source": [
    "## Se va a utilizar un archivo con información de variedades vinícolas"
   ]
  },
  {
   "cell_type": "code",
   "execution_count": 3,
   "metadata": {},
   "outputs": [
    {
     "data": {
      "text/plain": [
       "array([2, 3], dtype=int64)"
      ]
     },
     "execution_count": 3,
     "metadata": {},
     "output_type": "execute_result"
    }
   ],
   "source": [
    "# Se preparan las columnas a tratar\n",
    "import pandas as pd\n",
    "df_wine = pd.read_csv('data/wine.csv', header=None)\n",
    "df_wine.columns = ['Class label', 'Alcohol',\n",
    "    'Malic acid', 'Ash',\n",
    "    'Alcalinity of ash',\n",
    "    'Magnesium', 'Total phenols',\n",
    "    'Flavanoids', 'Nonflavanoid phenols',\n",
    "    'Proanthocyanins',\n",
    "    'Color intensity', 'Hue',\n",
    "    'OD280/OD315 of diluted wines'\n",
    "    ,'Proline']\n",
    "# Se borra la clase 1\n",
    "df_wine = df_wine[df_wine['Class label'] != 1]\n",
    "df_wine.head()\n",
    "# Se toma el campo 'Class label' como variable objetivo y\n",
    "# Se toman los campos 'Alcohol' y 'OD280/OD315 of diluted wines' como características sobre una matriz X\n",
    "y = df_wine['Class label'].values\n",
    "X = df_wine[['Alcohol', 'OD280/OD315 of diluted wines']].values\n",
    "np.unique(y)"
   ]
  },
  {
   "cell_type": "markdown",
   "metadata": {},
   "source": [
    "### Presentar una vista del dataframe cargado"
   ]
  },
  {
   "cell_type": "code",
   "execution_count": 80,
   "metadata": {},
   "outputs": [
    {
     "data": {
      "text/html": [
       "<div>\n",
       "<style scoped>\n",
       "    .dataframe tbody tr th:only-of-type {\n",
       "        vertical-align: middle;\n",
       "    }\n",
       "\n",
       "    .dataframe tbody tr th {\n",
       "        vertical-align: top;\n",
       "    }\n",
       "\n",
       "    .dataframe thead th {\n",
       "        text-align: right;\n",
       "    }\n",
       "</style>\n",
       "<table border=\"1\" class=\"dataframe\">\n",
       "  <thead>\n",
       "    <tr style=\"text-align: right;\">\n",
       "      <th></th>\n",
       "      <th>Class label</th>\n",
       "      <th>Alcohol</th>\n",
       "      <th>Malic acid</th>\n",
       "      <th>Ash</th>\n",
       "      <th>Alcalinity of ash</th>\n",
       "      <th>Magnesium</th>\n",
       "      <th>Total phenols</th>\n",
       "      <th>Flavanoids</th>\n",
       "      <th>Nonflavanoid phenols</th>\n",
       "      <th>Proanthocyanins</th>\n",
       "      <th>Color intensity</th>\n",
       "      <th>Hue</th>\n",
       "      <th>OD280/OD315 of diluted wines</th>\n",
       "      <th>Proline</th>\n",
       "    </tr>\n",
       "  </thead>\n",
       "  <tbody>\n",
       "    <tr>\n",
       "      <th>59</th>\n",
       "      <td>2</td>\n",
       "      <td>12.37</td>\n",
       "      <td>0.94</td>\n",
       "      <td>1.36</td>\n",
       "      <td>10.6</td>\n",
       "      <td>88</td>\n",
       "      <td>1.98</td>\n",
       "      <td>0.57</td>\n",
       "      <td>0.28</td>\n",
       "      <td>0.42</td>\n",
       "      <td>1.95</td>\n",
       "      <td>1.05</td>\n",
       "      <td>1.82</td>\n",
       "      <td>520</td>\n",
       "    </tr>\n",
       "    <tr>\n",
       "      <th>60</th>\n",
       "      <td>2</td>\n",
       "      <td>12.33</td>\n",
       "      <td>1.10</td>\n",
       "      <td>2.28</td>\n",
       "      <td>16.0</td>\n",
       "      <td>101</td>\n",
       "      <td>2.05</td>\n",
       "      <td>1.09</td>\n",
       "      <td>0.63</td>\n",
       "      <td>0.41</td>\n",
       "      <td>3.27</td>\n",
       "      <td>1.25</td>\n",
       "      <td>1.67</td>\n",
       "      <td>680</td>\n",
       "    </tr>\n",
       "    <tr>\n",
       "      <th>61</th>\n",
       "      <td>2</td>\n",
       "      <td>12.64</td>\n",
       "      <td>1.36</td>\n",
       "      <td>2.02</td>\n",
       "      <td>16.8</td>\n",
       "      <td>100</td>\n",
       "      <td>2.02</td>\n",
       "      <td>1.41</td>\n",
       "      <td>0.53</td>\n",
       "      <td>0.62</td>\n",
       "      <td>5.75</td>\n",
       "      <td>0.98</td>\n",
       "      <td>1.59</td>\n",
       "      <td>450</td>\n",
       "    </tr>\n",
       "    <tr>\n",
       "      <th>62</th>\n",
       "      <td>2</td>\n",
       "      <td>13.67</td>\n",
       "      <td>1.25</td>\n",
       "      <td>1.92</td>\n",
       "      <td>18.0</td>\n",
       "      <td>94</td>\n",
       "      <td>2.10</td>\n",
       "      <td>1.79</td>\n",
       "      <td>0.32</td>\n",
       "      <td>0.73</td>\n",
       "      <td>3.80</td>\n",
       "      <td>1.23</td>\n",
       "      <td>2.46</td>\n",
       "      <td>630</td>\n",
       "    </tr>\n",
       "    <tr>\n",
       "      <th>63</th>\n",
       "      <td>2</td>\n",
       "      <td>12.37</td>\n",
       "      <td>1.13</td>\n",
       "      <td>2.16</td>\n",
       "      <td>19.0</td>\n",
       "      <td>87</td>\n",
       "      <td>3.50</td>\n",
       "      <td>3.10</td>\n",
       "      <td>0.19</td>\n",
       "      <td>1.87</td>\n",
       "      <td>4.45</td>\n",
       "      <td>1.22</td>\n",
       "      <td>2.87</td>\n",
       "      <td>420</td>\n",
       "    </tr>\n",
       "  </tbody>\n",
       "</table>\n",
       "</div>"
      ],
      "text/plain": [
       "    Class label  Alcohol  Malic acid   Ash  Alcalinity of ash  Magnesium  \\\n",
       "59            2    12.37        0.94  1.36               10.6         88   \n",
       "60            2    12.33        1.10  2.28               16.0        101   \n",
       "61            2    12.64        1.36  2.02               16.8        100   \n",
       "62            2    13.67        1.25  1.92               18.0         94   \n",
       "63            2    12.37        1.13  2.16               19.0         87   \n",
       "\n",
       "    Total phenols  Flavanoids  Nonflavanoid phenols  Proanthocyanins  \\\n",
       "59           1.98        0.57                  0.28             0.42   \n",
       "60           2.05        1.09                  0.63             0.41   \n",
       "61           2.02        1.41                  0.53             0.62   \n",
       "62           2.10        1.79                  0.32             0.73   \n",
       "63           3.50        3.10                  0.19             1.87   \n",
       "\n",
       "    Color intensity   Hue  OD280/OD315 of diluted wines  Proline  \n",
       "59             1.95  1.05                          1.82      520  \n",
       "60             3.27  1.25                          1.67      680  \n",
       "61             5.75  0.98                          1.59      450  \n",
       "62             3.80  1.23                          2.46      630  \n",
       "63             4.45  1.22                          2.87      420  "
      ]
     },
     "execution_count": 80,
     "metadata": {},
     "output_type": "execute_result"
    }
   ],
   "source": [
    "df_wine.head()"
   ]
  },
  {
   "cell_type": "markdown",
   "metadata": {},
   "source": [
    "### Preproceso de datos\n",
    "\n",
    "__NOTA A sklearn.metrics__:__ Algunas métricas se definen esencialmente para tareas de clasificación binaria (por ejemplo, f1_score, roc_auc_score). En estos casos, por defecto solo se evalúa la etiqueta positiva, asumiendo por defecto que la clase positiva está etiquetada como 1 (aunque esto puede configurarse a través del __parámetro pos_label__).\n",
    "\n",
    "Por lo tanto hay dos alternativas:\n",
    "\n",
    "- __Se recodifica la variable objetivo y__, que contiene la etiqueta 'Class label' para que adopte los valores (0,1)\n",
    "- __Este ejemplo se convierte en una clasificación binaria__, y se pueden mostrar sus métricas con sklearn.metrics\n",
    "\n",
    "La otra posibilidad es:\n",
    "- __No alterar los valores de y__\n",
    "- Indicar en las llamadas a __sklearn.metrics__ en __pos_label__ la etiqueta que funciona como verdadero (3 por ejemplo).\n",
    "\n",
    "__Y finalmente se trocea el conjunto de entrada en entrenamiento 80% y prueba 20%__"
   ]
  },
  {
   "cell_type": "code",
   "execution_count": 4,
   "metadata": {},
   "outputs": [
    {
     "name": "stdout",
     "output_type": "stream",
     "text": [
      "[0 1]\n"
     ]
    }
   ],
   "source": [
    "from sklearn.preprocessing import LabelEncoder\n",
    "le = LabelEncoder()\n",
    "y = le.fit_transform(y)\n",
    "print(np.unique(y))\n",
    "\n",
    "# Troceamos las caracteristicas de X en un 80% de entrenamiento y un 20% de prueba\n",
    "from sklearn.model_selection import train_test_split\n",
    "X_train, X_test, y_train, y_test =train_test_split(X, y, train_size=0.80, random_state=0, stratify=y, shuffle=True)"
   ]
  },
  {
   "cell_type": "markdown",
   "metadata": {},
   "source": [
    "### Hacer un entrenamiento con la clase GaussianNB que implementa naive-Bayes en sk-learn\n",
    "\n",
    "- Entrenar el modelo con X_train, y_train\n",
    "- Validar con X_test, y_test utilizando la librería sklearn.metrics. Al ser una clasificación binario se pueden obtener métricas tal como exactitud, precisión y sensibilidad\n",
    "- Se puede verificar que la exactitud coincide con el recuento de aciertos"
   ]
  },
  {
   "cell_type": "code",
   "execution_count": 5,
   "metadata": {},
   "outputs": [],
   "source": [
    "from sklearn.naive_bayes import GaussianNB\n",
    "clf_NB = GaussianNB()\n",
    "clf_NB.fit(X_train, y_train)\n",
    "y_pred = clf_NB.predict(X_test)"
   ]
  },
  {
   "cell_type": "code",
   "execution_count": 6,
   "metadata": {},
   "outputs": [
    {
     "name": "stdout",
     "output_type": "stream",
     "text": [
      "Exactitud - Accuracy: 0.792\n",
      "Precision: 0.727\n",
      "Sensibilidad - Recall: 0.800\n",
      "F1: 0.762\n"
     ]
    }
   ],
   "source": [
    "from sklearn.metrics import accuracy_score\n",
    "from sklearn.metrics import precision_score\n",
    "from sklearn.metrics import recall_score, f1_score\n",
    "print('Exactitud - Accuracy: %.3f' % accuracy_score(y_true=y_test, y_pred=y_pred)) #Hay que usar este código si es un clasificador binario\n",
    "print('Precision: %.3f' % precision_score(y_true=y_test, y_pred=y_pred))\n",
    "print('Sensibilidad - Recall: %.3f' % recall_score(y_true=y_test, y_pred=y_pred))\n",
    "print('F1: %.3f' % f1_score(y_true=y_test, y_pred=y_pred))"
   ]
  },
  {
   "cell_type": "code",
   "execution_count": 84,
   "metadata": {},
   "outputs": [
    {
     "name": "stdout",
     "output_type": "stream",
     "text": [
      "Exactitud del clasificador (porcentaje de aciertos) = 79.16666666666667 \n",
      "\n"
     ]
    }
   ],
   "source": [
    "tot_Test = np.size(y_test)\n",
    "tot_aciertos = 0\n",
    "y_pred = []\n",
    "for x, y in zip(X_test, y_test):\n",
    "    y_est = clf_NB.predict([x])\n",
    "    y_pred.append(y_est)\n",
    "    if (y==y_est): tot_aciertos +=1\n",
    "print('Exactitud del clasificador (porcentaje de aciertos) = %s \\n' %(tot_aciertos*100/tot_Test))"
   ]
  },
  {
   "cell_type": "markdown",
   "metadata": {},
   "source": [
    "### Se muestra la correspondiente matriz de confusión"
   ]
  },
  {
   "cell_type": "code",
   "execution_count": 85,
   "metadata": {},
   "outputs": [
    {
     "data": {
      "image/png": "[encoded data removed]",
      "text/plain": [
       "<Figure size 640x480 with 2 Axes>"
      ]
     },
     "metadata": {},
     "output_type": "display_data"
    }
   ],
   "source": [
    "from sklearn.metrics import ConfusionMatrixDisplay\n",
    "from sklearn.metrics import confusion_matrix\n",
    "cm = confusion_matrix(y_true=y_test, y_pred=y_pred)\n",
    "cm_display = ConfusionMatrixDisplay(cm, display_labels=['2','3']).plot()"
   ]
  },
  {
   "cell_type": "markdown",
   "metadata": {},
   "source": [
    "### Repetir el entrenamiento con la clase  DecissionTreeClassifier que implementa el árbol de decisión en sk-learn\n",
    "\n",
    "- Entrenar el modelo con X_train, y_train\n",
    "- Validar con X_test, y_test utilizando la librería sklearn.metrics. \n",
    "- Matriz de confusión"
   ]
  },
  {
   "cell_type": "code",
   "execution_count": 86,
   "metadata": {},
   "outputs": [],
   "source": [
    "y = df_wine['Class label'].values\n",
    "X = df_wine[['Alcohol', 'OD280/OD315 of diluted wines']].values\n",
    "le = LabelEncoder()\n",
    "y = le.fit_transform(y)\n",
    "from sklearn.model_selection import train_test_split\n",
    "X_train, X_test, y_train, y_test =train_test_split(X, y, train_size=0.80, random_state=0, stratify=y, shuffle=True)"
   ]
  },
  {
   "cell_type": "code",
   "execution_count": 87,
   "metadata": {},
   "outputs": [
    {
     "name": "stdout",
     "output_type": "stream",
     "text": [
      "Exactitud - Accuracy: 0.792\n",
      "Precision: 0.792\n",
      "Sensibilidad - Recall: 0.792\n",
      "F1: 0.792\n"
     ]
    }
   ],
   "source": [
    "import numpy as np\n",
    "from sklearn.tree import DecisionTreeClassifier\n",
    "clf = DecisionTreeClassifier(criterion=\"entropy\",random_state=0)\n",
    "clf.fit(X_train, y_train)\n",
    "y_pred = clf.predict(X_test)\n",
    "\n",
    "from sklearn.metrics import accuracy_score\n",
    "from sklearn.metrics import precision_score\n",
    "from sklearn.metrics import recall_score, f1_score\n",
    "print('Exactitud - Accuracy: %.3f' % accuracy_score(y_true=y_test, y_pred=y_pred))\n",
    "print('Precision: %.3f' % precision_score(y_true=y_test, y_pred=y_pred))\n",
    "print('Sensibilidad - Recall: %.3f' % recall_score(y_true=y_test, y_pred=y_pred))\n",
    "print('F1: %.3f' % f1_score(y_true=y_test, y_pred=y_pred))"
   ]
  },
  {
   "cell_type": "code",
   "execution_count": 88,
   "metadata": {},
   "outputs": [
    {
     "data": {
      "image/png": "[encoded data removed]",
      "text/plain": [
       "<Figure size 640x480 with 2 Axes>"
      ]
     },
     "metadata": {},
     "output_type": "display_data"
    }
   ],
   "source": [
    "from sklearn.metrics import ConfusionMatrixDisplay\n",
    "from sklearn.metrics import confusion_matrix\n",
    "cm = confusion_matrix(y_true=y_test, y_pred=y_pred)\n",
    "cm_display = ConfusionMatrixDisplay(cm, display_labels=['2','3']).plot()"
   ]
  },
  {
   "cell_type": "markdown",
   "metadata": {},
   "source": [
    "### De forma volutaria, se puede buscar la documentación de la clase RandomForestClassifier\n",
    "\n",
    "__Esta clase está implementada en la librería sklearn.ensemble__\n",
    "\n",
    "__RamdomForest implementa internamente varios árboles de decisión que se ensamblan y se toma como resultado para la clasificación el voto mayoritario__\n",
    "\n",
    "__Parámetros principales del constructor__:\n",
    "\n",
    "- __n_estimators__ : número de árboles, 100 por defecto\n",
    "- __criterion__ : criterio de partición ('gini', 'entropy'), por defecto es 'gini'.\n",
    "\n",
    "Para más información:\n",
    "\n",
    "https://scikit-learn.org/stable/modules/generated/sklearn.ensemble.RandomForestClassifier.html"
   ]
  },
  {
   "cell_type": "code",
   "execution_count": 89,
   "metadata": {},
   "outputs": [],
   "source": [
    "from sklearn.ensemble import RandomForestClassifier\n",
    "clf_rfc = RandomForestClassifier(criterion='entropy', random_state=0)\n",
    "clf_rfc.fit(X_train, y_train)\n",
    "y_pred2=clf_rfc.predict(X_test)"
   ]
  },
  {
   "cell_type": "code",
   "execution_count": 90,
   "metadata": {},
   "outputs": [
    {
     "name": "stdout",
     "output_type": "stream",
     "text": [
      "Exactitud - Accuracy: 0.750\n",
      "Precision: 0.750\n",
      "Sensibilidad - Recall: 0.750\n",
      "F1: 0.750\n"
     ]
    }
   ],
   "source": [
    "from sklearn.metrics import accuracy_score\n",
    "from sklearn.metrics import precision_score\n",
    "from sklearn.metrics import recall_score, f1_score\n",
    "print('Exactitud - Accuracy: %.3f' % accuracy_score(y_true=y_test, y_pred=y_pred2))\n",
    "print('Precision: %.3f' % precision_score(y_true=y_test, y_pred=y_pred2))\n",
    "print('Sensibilidad - Recall: %.3f' % recall_score(y_true=y_test, y_pred=y_pred2))\n",
    "print('F1: %.3f' % f1_score(y_true=y_test, y_pred=y_pred2))"
   ]
  },
  {
   "cell_type": "code",
   "execution_count": 91,
   "metadata": {},
   "outputs": [
    {
     "data": {
      "image/png": "[encoded data removed]",
      "text/plain": [
       "<Figure size 640x480 with 2 Axes>"
      ]
     },
     "metadata": {},
     "output_type": "display_data"
    }
   ],
   "source": [
    "from sklearn.metrics import ConfusionMatrixDisplay\n",
    "from sklearn.metrics import confusion_matrix\n",
    "cm = confusion_matrix(y_true=y_test, y_pred=y_pred)\n",
    "cm_display = ConfusionMatrixDisplay(cm, display_labels=['2','3']).plot()"
   ]
  },
  {
   "cell_type": "markdown",
   "metadata": {},
   "source": [
    "### De forma voluntaria también se puede aplicar la implementación del Bagging\n",
    "\n",
    "Se realizarán 100 repeticiones utilizando árboles de decisión"
   ]
  },
  {
   "cell_type": "code",
   "execution_count": 96,
   "metadata": {},
   "outputs": [
    {
     "data": {
      "text/plain": [
       "BaggingClassifier(n_estimators=100)"
      ]
     },
     "execution_count": 96,
     "metadata": {},
     "output_type": "execute_result"
    }
   ],
   "source": [
    "from sklearn.ensemble import BaggingClassifier\n",
    "from sklearn.tree import DecisionTreeClassifier\n",
    "bggC = BaggingClassifier(n_estimators=100)\n",
    "bggC.fit(X_train, y_train)"
   ]
  },
  {
   "cell_type": "markdown",
   "metadata": {},
   "source": [
    "__Ahora se hace uso de N clasificadores entrenados para predecir con voto mayoritario el conjunto de test__ \n",
    "\n",
    "__Se usa la moda como forma de obtener la etiqueta más votada__"
   ]
  },
  {
   "cell_type": "code",
   "execution_count": 97,
   "metadata": {},
   "outputs": [
    {
     "name": "stdout",
     "output_type": "stream",
     "text": [
      "Exactitud - Accuracy: 0.7917\n"
     ]
    }
   ],
   "source": [
    "print('Exactitud - Accuracy: %.4f' % bggC.score(X_test, y_test))"
   ]
  },
  {
   "cell_type": "markdown",
   "metadata": {},
   "source": [
    "__Implementación manual del bagging__ "
   ]
  },
  {
   "cell_type": "code",
   "execution_count": 98,
   "metadata": {},
   "outputs": [],
   "source": [
    "import numpy as np\n",
    "## Hacemos el entrenamiento de los clasificadores\n",
    "NumRepeticiones = 100 # hacemos 100 muestras con bootstrap\n",
    "NumMuestras = X_train.shape[0] # el número de muestras totales en X_train\n",
    "indices = np.arange(X_train.shape[0]) # un listado con los índices de X_train 1,2,...,NumMuestras\n",
    "clf_Bagg = [GaussianNB() for i in range(NumRepeticiones)]\n",
    "\n",
    "for rep in np.arange(NumRepeticiones):\n",
    "    indicesNew = np.random.choice(indices,NumMuestras,replace=True) #nuevos indices cogidos al azar\n",
    "    X_train_Bagg = X_train[indicesNew] # tomamos los datos X de esos indices\n",
    "    y_train_Bagg = y_train[indicesNew] # y sus categorías\n",
    "    clf_Bagg[rep].fit(X_train_Bagg, y_train_Bagg)    "
   ]
  },
  {
   "cell_type": "markdown",
   "metadata": {},
   "source": [
    "__Se usa la moda como forma de obtener la etiqueta más votada__"
   ]
  },
  {
   "cell_type": "code",
   "execution_count": 99,
   "metadata": {},
   "outputs": [
    {
     "name": "stdout",
     "output_type": "stream",
     "text": [
      "Exactitud - Accuracy: 0.7917\n"
     ]
    },
    {
     "name": "stderr",
     "output_type": "stream",
     "text": [
      "C:\\Users\\Usuario\\AppData\\Local\\Temp\\ipykernel_2420\\2549440049.py:5: FutureWarning: Unlike other reduction functions (e.g. `skew`, `kurtosis`), the default behavior of `mode` typically preserves the axis it acts along. In SciPy 1.11.0, this behavior will change: the default value of `keepdims` will become False, the `axis` over which the statistic is taken will be eliminated, and the value None will no longer be accepted. Set `keepdims` to True or False to avoid this warning.\n",
      "  y_predVoto = stats.mode(y_predMult)[0][0]\n"
     ]
    }
   ],
   "source": [
    "### ATENCIÓN: HAY QUE USAR EL VOTO MAYORITARIO, POR TANTO HAY QUE GUARDAR TODOS LOS VOTOS\n",
    "from scipy import stats\n",
    "from sklearn.metrics import accuracy_score\n",
    "y_predMult = [clf_Bagg[rep].predict(X_test) for rep in range(NumRepeticiones)]\n",
    "y_predVoto = stats.mode(y_predMult)[0][0]\n",
    "print('Exactitud - Accuracy: %.4f' % accuracy_score(y_true=y_test, y_pred=y_predVoto))"
   ]
  }
 ],
 "metadata": {
  "kernelspec": {
   "display_name": "Python 3 (ipykernel)",
   "language": "python",
   "name": "python3"
  },
  "language_info": {
   "codemirror_mode": {
    "name": "ipython",
    "version": 3
   },
   "file_extension": ".py",
   "mimetype": "text/x-python",
   "name": "python",
   "nbconvert_exporter": "python",
   "pygments_lexer": "ipython3",
   "version": "3.9.13"
  }
 },
 "nbformat": 4,
 "nbformat_minor": 4
}
